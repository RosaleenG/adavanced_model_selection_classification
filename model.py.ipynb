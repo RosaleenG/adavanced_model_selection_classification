{
 "cells": [
  {
   "cell_type": "code",
   "execution_count": 2,
   "metadata": {},
   "outputs": [],
   "source": [
    "import json\n",
    "\n",
    "import numpy as np\n",
    "import pandas as pd\n",
    "from sklearn.linear_model import LogisticRegression\n",
    "from sklearn.preprocessing import OneHotEncoder, StandardScaler\n"
   ]
  },
  {
   "cell_type": "code",
   "execution_count": 3,
   "metadata": {},
   "outputs": [],
   "source": [
    "COLS_TO_DROP = [\n",
    "    'id', 'photo', 'slug', 'disable_communication', 'friends', 'is_starred',\n",
    "    'is_backing', 'permissions', 'currency_symbol', 'currency_trailing_code',\n",
    "    'currency', 'creator', 'location', 'urls', 'source_url', 'category',\n",
    "    'profile'\n",
    "]\n"
   ]
  },
  {
   "cell_type": "code",
   "execution_count": 4,
   "metadata": {},
   "outputs": [],
   "source": [
    "LOGREG_PARAMS = {'penalty': '12', 'C':0.0006}"
   ]
  },
  {
   "cell_type": "code",
   "execution_count": 5,
   "metadata": {},
   "outputs": [],
   "source": [
    "class KickstarterModel:\n",
    "\n",
    "    def __init__(self):\n",
    "        self.model = LogisticRegression(**LOGREG_PARAMS)\n",
    "        self.ohe = OneHotEncoder(sparse=False, handle_unknown='ignore')\n",
    "        self.scaler = StandardScaler()\n",
    "        \n",
    "    def preprocess_common(self, df):\n",
    "        x=df.copy()\n",
    "        \n",
    "        x.name = x.name.fillna('')\n",
    "        x.blurb = x.blurb.fillna('')\n",
    "        \n",
    "        x.drop(COLS_TO_DROP, axis=1, inplace=True)\n",
    "        \n",
    "        x.goal = x.goal/x.static_usd_rate\n",
    "        x.drop('static_usd_rate', axis=1, inplace=True)\n",
    "        \n",
    "        x['duration_creation'] = x.launched_at - x.created_at\n",
    "        x['duration_funding'] = x.deadline - x.launched_at\n",
    "        \n",
    "        x.drop(['created_at', 'launched_at'], axis=1, inplace=True)\n",
    "        \n",
    "        x['len_name'] = x.name.str.len()\n",
    "        x['len_desc'] = x.blurb.str.len()\n",
    "        x['name_word_count'] = x.name.str.split().str.len()\n",
    "        x['desc_word_count'] = x.blurb.str.split().str.len()\n",
    "        x['desc_avg_word_len'] = x.blurb.apply(lambda s: np.mean([len(w) for w in split('')]))\n",
    "        x.drop(['name', 'blurb'], axis=1, inplace=True)\n",
    "        \n",
    "        x['len_desc_log'] = np.log1p(x['len_desc'])\n",
    "        x['desc_avg_word_len'] = np.log1p(x['desc_avg_word_len'])\n",
    "        \n",
    "        x_cat = pd.DataFrame()\n",
    "        x_cat['country'] = x.country\n",
    "        x_cat['month'] = pd.to_datetime(x.deadline, unit='s').dt.month\n",
    "        x.drop(['country'], axis=1, implace=True)\n",
    "        \n",
    "        return x, x_cat\n",
    "    \n",
    "    def preprocess_training_data(self, df):\n",
    "        \n",
    "        y=df.state.apply(lambda txt: 0 if txt=='failed' else 1)\n",
    "        df.drop('state', axis=1, inplace=True)\n",
    "        \n",
    "        x, x_cat = self.preprocess_common(df)\n",
    "        \n",
    "        x_cat = pd.DataFrame(self.scaler.fit_transform(x), columns=x.columns, index=x.index)\n",
    "        \n",
    "        return x, y\n",
    "    \n",
    "    def fit(self, x, y):\n",
    "        self.model.fit(x,y)\n",
    "        \n",
    "    def preprocess_unseen_data(self, df):\n",
    "        \n",
    "        x, x_cat = self.preprocess_common(df)\n",
    "        \n",
    "        x_cat = pd.DataFrame(self.ohe.transform(x_cat))\n",
    "        x = x.join(x_cat)\n",
    "        \n",
    "        return pd.DataFrame(self.scaler.transofrm(x), columns=x.columns, index=x.index)\n",
    "    \n",
    "    def predict(self, x):\n",
    "        \n",
    "        return self.model.predict(x)"
   ]
  },
  {
   "cell_type": "code",
   "execution_count": null,
   "metadata": {},
   "outputs": [],
   "source": []
  }
 ],
 "metadata": {
  "kernelspec": {
   "display_name": "Python 3",
   "language": "python",
   "name": "python3"
  },
  "language_info": {
   "codemirror_mode": {
    "name": "ipython",
    "version": 3
   },
   "file_extension": ".py",
   "mimetype": "text/x-python",
   "name": "python",
   "nbconvert_exporter": "python",
   "pygments_lexer": "ipython3",
   "version": "3.7.6"
  }
 },
 "nbformat": 4,
 "nbformat_minor": 4
}
